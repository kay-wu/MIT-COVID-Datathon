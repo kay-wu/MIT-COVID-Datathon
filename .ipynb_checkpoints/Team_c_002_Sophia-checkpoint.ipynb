{
 "cells": [
  {
   "cell_type": "markdown",
   "metadata": {
    "colab_type": "text",
    "id": "TiJGwFzwHRL0"
   },
   "source": [
    "## Packages\n",
    "\n"
   ]
  },
  {
   "cell_type": "code",
   "execution_count": 2,
   "metadata": {
    "colab": {},
    "colab_type": "code",
    "id": "jS31BQ2GHKLH"
   },
   "outputs": [],
   "source": [
    "import pandas as pd\n",
    "import numpy as np\n",
    "import os\n",
    "import matplotlib.pyplot as plt \n",
    "from scipy.stats import ttest_ind\n",
    "from sklearn.model_selection import train_test_split\n",
    "from sklearn.linear_model import LogisticRegression\n",
    "from sklearn.impute import SimpleImputer\n",
    "from sklearn import metrics\n",
    "import seaborn as sns\n",
    "%matplotlib inline"
   ]
  },
  {
   "cell_type": "markdown",
   "metadata": {
    "colab_type": "text",
    "id": "2t1JTEJzHaRE"
   },
   "source": [
    "## Data Importing \n",
    "We import household size data from [this drive](https://drive.google.com/open?id=1dG0g-PrVZqsHytBLfFvIwX7Np5DqD-5y) or this [github link](https://). We then query the number of cases per FIPS code from the bigquery public dataset (usa-facts) "
   ]
  },
  {
   "cell_type": "markdown",
   "metadata": {
    "colab_type": "text",
    "id": "o7TwlyfBNzU1"
   },
   "source": [
    "### Household data"
   ]
  },
  {
   "cell_type": "code",
   "execution_count": 392,
   "metadata": {
    "colab": {
     "base_uri": "https://localhost:8080/",
     "height": 204
    },
    "colab_type": "code",
    "id": "mSH6X4e_OxIk",
    "outputId": "34a9cad8-1a32-4896-fdff-50cc3b4843e3"
   },
   "outputs": [],
   "source": [
    "# Load household Data, on github\n",
    "url = \"https://raw.githubusercontent.com/kay-wu/MIT-COVID-Datathon/master/data/PolicyMap%20Data%202020-05-13%202122UTC.csv\"\n",
    "household_raw=pd.read_csv(url, encoding = \"ISO-8859-1\")\n",
    "\n",
    "# Limit to NY\n",
    "household_raw = household_raw[household_raw['State'] == 'NY']\n",
    "household_raw = household_raw[['FIPS Code','Estimated average size of a household, between 2014-2018.']]\n",
    "household_raw.columns = ['GEOID','Avg_HH_Size']"
   ]
  },
  {
   "cell_type": "code",
   "execution_count": 397,
   "metadata": {},
   "outputs": [],
   "source": [
    "# load in mapping for zcta (zipcode) <-> Census Tract ID\n",
    "zcta_conversion = pd.read_csv('./data/raw/zcta_conversion.txt')\n",
    "zcta_conversion = zcta_conversion[zcta_conversion['STATE'] == 36]\n",
    "zcta_conversion = zcta_conversion[['ZCTA5','GEOID','ZPOPPCT','ZPOP','COUNTY']]\n",
    "zcta_conversion.rename({'ZCTA5':'ZCTA'}, axis='columns', inplace=True)\n",
    "zcta_pop = zcta_conversion.groupby('ZCTA')['ZPOP'].mean()"
   ]
  },
  {
   "cell_type": "code",
   "execution_count": 399,
   "metadata": {},
   "outputs": [
    {
     "data": {
      "text/html": [
       "<div>\n",
       "<style scoped>\n",
       "    .dataframe tbody tr th:only-of-type {\n",
       "        vertical-align: middle;\n",
       "    }\n",
       "\n",
       "    .dataframe tbody tr th {\n",
       "        vertical-align: top;\n",
       "    }\n",
       "\n",
       "    .dataframe thead th {\n",
       "        text-align: right;\n",
       "    }\n",
       "</style>\n",
       "<table border=\"1\" class=\"dataframe\">\n",
       "  <thead>\n",
       "    <tr style=\"text-align: right;\">\n",
       "      <th></th>\n",
       "      <th>Average_HH</th>\n",
       "      <th>ZCTA_POP</th>\n",
       "    </tr>\n",
       "    <tr>\n",
       "      <th>ZCTA</th>\n",
       "      <th></th>\n",
       "      <th></th>\n",
       "    </tr>\n",
       "  </thead>\n",
       "  <tbody>\n",
       "    <tr>\n",
       "      <th>6390</th>\n",
       "      <td>2.110000</td>\n",
       "      <td>236</td>\n",
       "    </tr>\n",
       "    <tr>\n",
       "      <th>10001</th>\n",
       "      <td>0.157344</td>\n",
       "      <td>21102</td>\n",
       "    </tr>\n",
       "    <tr>\n",
       "      <th>10002</th>\n",
       "      <td>0.147211</td>\n",
       "      <td>81410</td>\n",
       "    </tr>\n",
       "    <tr>\n",
       "      <th>10003</th>\n",
       "      <td>0.131441</td>\n",
       "      <td>56024</td>\n",
       "    </tr>\n",
       "    <tr>\n",
       "      <th>10004</th>\n",
       "      <td>0.387640</td>\n",
       "      <td>3089</td>\n",
       "    </tr>\n",
       "  </tbody>\n",
       "</table>\n",
       "</div>"
      ],
      "text/plain": [
       "       Average_HH  ZCTA_POP\n",
       "ZCTA                       \n",
       "6390     2.110000       236\n",
       "10001    0.157344     21102\n",
       "10002    0.147211     81410\n",
       "10003    0.131441     56024\n",
       "10004    0.387640      3089"
      ]
     },
     "execution_count": 399,
     "metadata": {},
     "output_type": "execute_result"
    }
   ],
   "source": [
    "# find Expected value of Avg Household Size of ZCTAs\n",
    "household_data = pd.merge(zcta_conversion, household_raw, on='GEOID')\n",
    "household_data['avg_hh_sum'] = household_data['Avg_HH_Size']*household_data['ZPOPPCT']/100\n",
    "household_data = pd.DataFrame(household_data.groupby('ZCTA')['avg_hh_sum'].mean())\n",
    "\n",
    "household_data = pd.merge(household_data, zcta_pop, on='ZCTA', how='left')\n",
    "household_data.rename({'avg_hh_sum':'Average_HH', 'ZPOP':'ZCTA_POP'},axis='columns',inplace=True)\n",
    "household_data.head()"
   ]
  },
  {
   "cell_type": "markdown",
   "metadata": {
    "colab_type": "text",
    "id": "Pi1WDnpKN2CS"
   },
   "source": [
    "### Covid19 cases data"
   ]
  },
  {
   "cell_type": "code",
   "execution_count": 400,
   "metadata": {
    "colab": {
     "base_uri": "https://localhost:8080/",
     "height": 204
    },
    "colab_type": "code",
    "id": "lMjQnOLaTPh3",
    "outputId": "207a1448-24b5-4f03-b703-fe22f0d650fe"
   },
   "outputs": [
    {
     "data": {
      "text/html": [
       "<div>\n",
       "<style scoped>\n",
       "    .dataframe tbody tr th:only-of-type {\n",
       "        vertical-align: middle;\n",
       "    }\n",
       "\n",
       "    .dataframe tbody tr th {\n",
       "        vertical-align: top;\n",
       "    }\n",
       "\n",
       "    .dataframe thead th {\n",
       "        text-align: right;\n",
       "    }\n",
       "</style>\n",
       "<table border=\"1\" class=\"dataframe\">\n",
       "  <thead>\n",
       "    <tr style=\"text-align: right;\">\n",
       "      <th></th>\n",
       "      <th>ZCTA</th>\n",
       "      <th>Positive_Covid_Tests</th>\n",
       "      <th>Total_Covid_Tests</th>\n",
       "      <th>Percent_Positive_Covid</th>\n",
       "    </tr>\n",
       "  </thead>\n",
       "  <tbody>\n",
       "    <tr>\n",
       "      <th>0</th>\n",
       "      <td>NaN</td>\n",
       "      <td>5238</td>\n",
       "      <td>5594</td>\n",
       "      <td>93.64</td>\n",
       "    </tr>\n",
       "    <tr>\n",
       "      <th>1</th>\n",
       "      <td>10001.0</td>\n",
       "      <td>323</td>\n",
       "      <td>1211</td>\n",
       "      <td>26.67</td>\n",
       "    </tr>\n",
       "    <tr>\n",
       "      <th>2</th>\n",
       "      <td>10002.0</td>\n",
       "      <td>936</td>\n",
       "      <td>2586</td>\n",
       "      <td>36.19</td>\n",
       "    </tr>\n",
       "    <tr>\n",
       "      <th>3</th>\n",
       "      <td>10003.0</td>\n",
       "      <td>422</td>\n",
       "      <td>1654</td>\n",
       "      <td>25.51</td>\n",
       "    </tr>\n",
       "    <tr>\n",
       "      <th>4</th>\n",
       "      <td>10004.0</td>\n",
       "      <td>28</td>\n",
       "      <td>113</td>\n",
       "      <td>24.78</td>\n",
       "    </tr>\n",
       "  </tbody>\n",
       "</table>\n",
       "</div>"
      ],
      "text/plain": [
       "      ZCTA  Positive_Covid_Tests  Total_Covid_Tests  Percent_Positive_Covid\n",
       "0      NaN                  5238               5594                   93.64\n",
       "1  10001.0                   323               1211                   26.67\n",
       "2  10002.0                   936               2586                   36.19\n",
       "3  10003.0                   422               1654                   25.51\n",
       "4  10004.0                    28                113                   24.78"
      ]
     },
     "execution_count": 400,
     "metadata": {},
     "output_type": "execute_result"
    }
   ],
   "source": [
    "# load in Covid cases data by ZCTA\n",
    "cases_url = 'https://raw.githubusercontent.com/nychealth/coronavirus-data/master/tests-by-zcta.csv'\n",
    "covid_raw_county = pd.read_csv(cases_url,error_bad_lines=False)\n",
    "covid_raw_county.columns = ['ZCTA','Positive_Covid_Tests','Total_Covid_Tests','Percent_Positive_Covid']\n",
    "covid_raw_county.head()"
   ]
  },
  {
   "cell_type": "markdown",
   "metadata": {},
   "source": [
    "### SES (Income Data)"
   ]
  },
  {
   "cell_type": "code",
   "execution_count": 401,
   "metadata": {},
   "outputs": [],
   "source": [
    "# load in income data by COUNTY\n",
    "income_data = pd.read_csv('https://raw.githubusercontent.com/COVID19PVI/data/master/Model10.5/Model_10.5_20200513_data.csv',\n",
    "                         skiprows=np.linspace(0,10,10))\n",
    "income_data.columns = [\"row\",\"sid\",\"casrn\",\"name\",\"Spread\",\"Sick\",\"PctCases\",\"Cases\",\"CountyCaseRate\",\"StateCaseRate\",\n",
    "                       \"PctDeaths\",\"Deaths\",\"PctDeaths2\",\"CountyDeathRate\",\"StateDeathRate\",\"StatePctTested\",\"StateTestRate\",\n",
    "                       \"SVISocioeconomic\",\"SVIMinority\",\"SVIHousing\",\"PctBeds\",\"Mobility\",\"PctNoIns\",\"PctGE65\",\n",
    "                       \"DaytimePopDensity\",\"PrematureDeath\",\"Smoking\",\"AirPollution\",\"Diabetes\",\"Traffic\",\"DistancingGrade\",\n",
    "                       \"Obesity\"]\n",
    "\n",
    "income_data = income_data[['casrn','SVISocioeconomic','SVIMinority']]"
   ]
  },
  {
   "cell_type": "code",
   "execution_count": 402,
   "metadata": {},
   "outputs": [],
   "source": [
    "# load in County to zipcode mapping\n",
    "\n",
    "county_mapping = pd.read_csv('./data/raw/New_York_State_ZIP_Codes-County_FIPS_Cross-Reference.csv',delimiter=';')\n",
    "county_mapping = county_mapping[['County FIPS','ZIP Code']]\n",
    "county_mapping.columns = ['casrn','ZCTA']"
   ]
  },
  {
   "cell_type": "code",
   "execution_count": 403,
   "metadata": {},
   "outputs": [],
   "source": [
    "county_strat_data = pd.merge(county_mapping, income_data, on='casrn', how='left')\n"
   ]
  },
  {
   "cell_type": "markdown",
   "metadata": {},
   "source": [
    "## MERGEEEEE"
   ]
  },
  {
   "cell_type": "code",
   "execution_count": 404,
   "metadata": {},
   "outputs": [],
   "source": [
    "all_data = pd.merge(household_data, covid_raw_county, on='ZCTA', how='inner')\n",
    "all_data = pd.merge(all_data, county_strat_data, on='ZCTA', how='inner')\n",
    "all_data['Covid_Rate'] = all_data['Positive_Covid_Tests']/all_data['ZCTA_POP']"
   ]
  },
  {
   "cell_type": "code",
   "execution_count": 405,
   "metadata": {},
   "outputs": [
    {
     "data": {
      "text/html": [
       "<div>\n",
       "<style scoped>\n",
       "    .dataframe tbody tr th:only-of-type {\n",
       "        vertical-align: middle;\n",
       "    }\n",
       "\n",
       "    .dataframe tbody tr th {\n",
       "        vertical-align: top;\n",
       "    }\n",
       "\n",
       "    .dataframe thead th {\n",
       "        text-align: right;\n",
       "    }\n",
       "</style>\n",
       "<table border=\"1\" class=\"dataframe\">\n",
       "  <thead>\n",
       "    <tr style=\"text-align: right;\">\n",
       "      <th></th>\n",
       "      <th>ZCTA</th>\n",
       "      <th>Average_HH</th>\n",
       "      <th>ZCTA_POP</th>\n",
       "      <th>Positive_Covid_Tests</th>\n",
       "      <th>Total_Covid_Tests</th>\n",
       "      <th>Percent_Positive_Covid</th>\n",
       "      <th>casrn</th>\n",
       "      <th>SVISocioeconomic</th>\n",
       "      <th>SVIMinority</th>\n",
       "      <th>Covid_Rate</th>\n",
       "    </tr>\n",
       "  </thead>\n",
       "  <tbody>\n",
       "    <tr>\n",
       "      <th>0</th>\n",
       "      <td>10001</td>\n",
       "      <td>0.157344</td>\n",
       "      <td>21102</td>\n",
       "      <td>323</td>\n",
       "      <td>1211</td>\n",
       "      <td>26.67</td>\n",
       "      <td>36061</td>\n",
       "      <td>0.4201</td>\n",
       "      <td>0.9612</td>\n",
       "      <td>0.015307</td>\n",
       "    </tr>\n",
       "    <tr>\n",
       "      <th>1</th>\n",
       "      <td>10002</td>\n",
       "      <td>0.147211</td>\n",
       "      <td>81410</td>\n",
       "      <td>936</td>\n",
       "      <td>2586</td>\n",
       "      <td>36.19</td>\n",
       "      <td>36061</td>\n",
       "      <td>0.4201</td>\n",
       "      <td>0.9612</td>\n",
       "      <td>0.011497</td>\n",
       "    </tr>\n",
       "    <tr>\n",
       "      <th>2</th>\n",
       "      <td>10003</td>\n",
       "      <td>0.131441</td>\n",
       "      <td>56024</td>\n",
       "      <td>422</td>\n",
       "      <td>1654</td>\n",
       "      <td>25.51</td>\n",
       "      <td>36061</td>\n",
       "      <td>0.4201</td>\n",
       "      <td>0.9612</td>\n",
       "      <td>0.007532</td>\n",
       "    </tr>\n",
       "    <tr>\n",
       "      <th>3</th>\n",
       "      <td>10004</td>\n",
       "      <td>0.387640</td>\n",
       "      <td>3089</td>\n",
       "      <td>28</td>\n",
       "      <td>113</td>\n",
       "      <td>24.78</td>\n",
       "      <td>36061</td>\n",
       "      <td>0.4201</td>\n",
       "      <td>0.9612</td>\n",
       "      <td>0.009064</td>\n",
       "    </tr>\n",
       "    <tr>\n",
       "      <th>4</th>\n",
       "      <td>10005</td>\n",
       "      <td>0.656071</td>\n",
       "      <td>7135</td>\n",
       "      <td>55</td>\n",
       "      <td>278</td>\n",
       "      <td>19.78</td>\n",
       "      <td>36061</td>\n",
       "      <td>0.4201</td>\n",
       "      <td>0.9612</td>\n",
       "      <td>0.007708</td>\n",
       "    </tr>\n",
       "  </tbody>\n",
       "</table>\n",
       "</div>"
      ],
      "text/plain": [
       "    ZCTA  Average_HH  ZCTA_POP  Positive_Covid_Tests  Total_Covid_Tests  \\\n",
       "0  10001    0.157344     21102                   323               1211   \n",
       "1  10002    0.147211     81410                   936               2586   \n",
       "2  10003    0.131441     56024                   422               1654   \n",
       "3  10004    0.387640      3089                    28                113   \n",
       "4  10005    0.656071      7135                    55                278   \n",
       "\n",
       "   Percent_Positive_Covid  casrn  SVISocioeconomic  SVIMinority  Covid_Rate  \n",
       "0                   26.67  36061            0.4201       0.9612    0.015307  \n",
       "1                   36.19  36061            0.4201       0.9612    0.011497  \n",
       "2                   25.51  36061            0.4201       0.9612    0.007532  \n",
       "3                   24.78  36061            0.4201       0.9612    0.009064  \n",
       "4                   19.78  36061            0.4201       0.9612    0.007708  "
      ]
     },
     "execution_count": 405,
     "metadata": {},
     "output_type": "execute_result"
    }
   ],
   "source": [
    "all_data.head()"
   ]
  },
  {
   "cell_type": "code",
   "execution_count": 406,
   "metadata": {},
   "outputs": [
    {
     "data": {
      "text/plain": [
       "Index(['ZCTA', 'Average_HH', 'ZCTA_POP', 'Positive_Covid_Tests',\n",
       "       'Total_Covid_Tests', 'Percent_Positive_Covid', 'casrn',\n",
       "       'SVISocioeconomic', 'SVIMinority', 'Covid_Rate'],\n",
       "      dtype='object')"
      ]
     },
     "execution_count": 406,
     "metadata": {},
     "output_type": "execute_result"
    }
   ],
   "source": [
    "all_data.keys()"
   ]
  },
  {
   "cell_type": "code",
   "execution_count": 407,
   "metadata": {},
   "outputs": [
    {
     "name": "stdout",
     "output_type": "stream",
     "text": [
      "Length of Dataset:  177\n"
     ]
    }
   ],
   "source": [
    "print('Length of Dataset: ', len(all_data['ZCTA'].unique()))"
   ]
  },
  {
   "cell_type": "markdown",
   "metadata": {},
   "source": [
    "## Stratification + Modeling"
   ]
  },
  {
   "cell_type": "markdown",
   "metadata": {},
   "source": [
    "#### Response Variable Distribution"
   ]
  },
  {
   "cell_type": "code",
   "execution_count": 414,
   "metadata": {},
   "outputs": [
    {
     "data": {
      "image/png": "[encoded data removed]",
      "text/plain": [
       "<Figure size 432x288 with 1 Axes>"
      ]
     },
     "metadata": {
      "needs_background": "light"
     },
     "output_type": "display_data"
    }
   ],
   "source": [
    "plt.hist(all_data['Covid_Rate'], bins=20)\n",
    "plt.title('Covid Rate Across ZCTA')\n",
    "plt.show()"
   ]
  },
  {
   "cell_type": "markdown",
   "metadata": {},
   "source": [
    "Why does the rate look like this, so weird looking, almost looking multimodal ?! "
   ]
  },
  {
   "cell_type": "markdown",
   "metadata": {},
   "source": [
    "Dr. Rosella advised us to build a model for each stratification."
   ]
  },
  {
   "cell_type": "markdown",
   "metadata": {},
   "source": [
    "### Socioeconomic"
   ]
  },
  {
   "cell_type": "markdown",
   "metadata": {},
   "source": [
    "#### Stratification"
   ]
  },
  {
   "cell_type": "code",
   "execution_count": 299,
   "metadata": {},
   "outputs": [],
   "source": [
    "# View the different socioeconomic"
   ]
  },
  {
   "cell_type": "markdown",
   "metadata": {},
   "source": [
    "#### Modeling"
   ]
  },
  {
   "cell_type": "code",
   "execution_count": null,
   "metadata": {},
   "outputs": [],
   "source": []
  },
  {
   "cell_type": "markdown",
   "metadata": {},
   "source": [
    "### Minority "
   ]
  },
  {
   "cell_type": "markdown",
   "metadata": {},
   "source": [
    "#### Stratification"
   ]
  },
  {
   "cell_type": "code",
   "execution_count": null,
   "metadata": {},
   "outputs": [],
   "source": []
  },
  {
   "cell_type": "markdown",
   "metadata": {},
   "source": [
    "#### Modeling"
   ]
  },
  {
   "cell_type": "code",
   "execution_count": null,
   "metadata": {},
   "outputs": [],
   "source": []
  }
 ],
 "metadata": {
  "colab": {
   "collapsed_sections": [],
   "name": "Team_c_002.ipynb",
   "provenance": []
  },
  "kernelspec": {
   "display_name": "Python 3",
   "language": "python",
   "name": "python3"
  },
  "language_info": {
   "codemirror_mode": {
    "name": "ipython",
    "version": 3
   },
   "file_extension": ".py",
   "mimetype": "text/x-python",
   "name": "python",
   "nbconvert_exporter": "python",
   "pygments_lexer": "ipython3",
   "version": "3.7.6"
  }
 },
 "nbformat": 4,
 "nbformat_minor": 1
}
